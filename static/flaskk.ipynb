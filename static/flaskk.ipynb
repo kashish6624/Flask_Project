{
 "cells": [
  {
   "cell_type": "code",
   "execution_count": 1,
   "id": "1682bf92",
   "metadata": {},
   "outputs": [],
   "source": [
    "import pandas as pd\n",
    "import numpy as np\n",
    "import seaborn as sns\n",
    "import matplotlib.pyplot as plt\n",
    "\n",
    "from sklearn.ensemble import (\n",
    "    StackingClassifier, RandomForestClassifier, AdaBoostClassifier,\n",
    "    ExtraTreesClassifier, HistGradientBoostingClassifier\n",
    ")\n",
    "from sklearn.linear_model import LogisticRegression, RidgeClassifierCV\n",
    "from sklearn.svm import SVC\n",
    "from sklearn.neural_network import MLPClassifier\n",
    "from sklearn.tree import DecisionTreeClassifier\n",
    "from xgboost import XGBClassifier\n",
    "from sklearn.model_selection import train_test_split, cross_val_predict\n",
    "from sklearn.preprocessing import LabelEncoder, StandardScaler\n",
    "from sklearn.metrics import (\n",
    "    accuracy_score, classification_report, confusion_matrix,\n",
    "    precision_score, recall_score, f1_score\n",
    ")"
   ]
  },
  {
   "cell_type": "code",
   "execution_count": 2,
   "id": "9dfee540",
   "metadata": {},
   "outputs": [],
   "source": [
    "dataset1 = pd.read_csv('C:/Users/kashishpreet kaur/OneDrive/Desktop/Documents/DMA LAB/datasets/CO22339soiLMEASURES.csv')\n",
    "X1 = dataset1.iloc[:, :-1].values\n",
    "y1 = dataset1.iloc[:, -1].values"
   ]
  },
  {
   "cell_type": "code",
   "execution_count": 3,
   "id": "e16584f3",
   "metadata": {},
   "outputs": [
    {
     "data": {
      "image/png": "[encoded data removed]",
      "text/plain": [
       "<Figure size 640x480 with 1 Axes>"
      ]
     },
     "metadata": {},
     "output_type": "display_data"
    }
   ],
   "source": [
    "sns.countplot(x=y1)\n",
    "plt.title(\"Crop Class Distribution\")\n",
    "plt.xticks(rotation=90)\n",
    "plt.show()"
   ]
  },
  {
   "cell_type": "code",
   "execution_count": 4,
   "id": "b86024d2",
   "metadata": {},
   "outputs": [
    {
     "data": {
      "text/html": [
       "<div>\n",
       "<style scoped>\n",
       "    .dataframe tbody tr th:only-of-type {\n",
       "        vertical-align: middle;\n",
       "    }\n",
       "\n",
       "    .dataframe tbody tr th {\n",
       "        vertical-align: top;\n",
       "    }\n",
       "\n",
       "    .dataframe thead th {\n",
       "        text-align: right;\n",
       "    }\n",
       "</style>\n",
       "<table border=\"1\" class=\"dataframe\">\n",
       "  <thead>\n",
       "    <tr style=\"text-align: right;\">\n",
       "      <th></th>\n",
       "      <th>N</th>\n",
       "      <th>P</th>\n",
       "      <th>K</th>\n",
       "      <th>ph</th>\n",
       "      <th>crop</th>\n",
       "    </tr>\n",
       "  </thead>\n",
       "  <tbody>\n",
       "    <tr>\n",
       "      <th>0</th>\n",
       "      <td>90</td>\n",
       "      <td>42</td>\n",
       "      <td>43</td>\n",
       "      <td>6.502985</td>\n",
       "      <td>rice</td>\n",
       "    </tr>\n",
       "    <tr>\n",
       "      <th>1</th>\n",
       "      <td>85</td>\n",
       "      <td>58</td>\n",
       "      <td>41</td>\n",
       "      <td>7.038096</td>\n",
       "      <td>rice</td>\n",
       "    </tr>\n",
       "    <tr>\n",
       "      <th>2</th>\n",
       "      <td>60</td>\n",
       "      <td>55</td>\n",
       "      <td>44</td>\n",
       "      <td>7.840207</td>\n",
       "      <td>rice</td>\n",
       "    </tr>\n",
       "    <tr>\n",
       "      <th>3</th>\n",
       "      <td>74</td>\n",
       "      <td>35</td>\n",
       "      <td>40</td>\n",
       "      <td>6.980401</td>\n",
       "      <td>rice</td>\n",
       "    </tr>\n",
       "    <tr>\n",
       "      <th>4</th>\n",
       "      <td>78</td>\n",
       "      <td>42</td>\n",
       "      <td>42</td>\n",
       "      <td>7.628473</td>\n",
       "      <td>rice</td>\n",
       "    </tr>\n",
       "  </tbody>\n",
       "</table>\n",
       "</div>"
      ],
      "text/plain": [
       "    N   P   K        ph  crop\n",
       "0  90  42  43  6.502985  rice\n",
       "1  85  58  41  7.038096  rice\n",
       "2  60  55  44  7.840207  rice\n",
       "3  74  35  40  6.980401  rice\n",
       "4  78  42  42  7.628473  rice"
      ]
     },
     "execution_count": 4,
     "metadata": {},
     "output_type": "execute_result"
    }
   ],
   "source": [
    "dataset1.head()"
   ]
  },
  {
   "cell_type": "code",
   "execution_count": 5,
   "id": "1fdce1d2",
   "metadata": {},
   "outputs": [],
   "source": [
    "le = LabelEncoder()\n",
    "y1 = le.fit_transform(y1)"
   ]
  },
  {
   "cell_type": "code",
   "execution_count": 6,
   "id": "f96bf0bf",
   "metadata": {},
   "outputs": [],
   "source": [
    "X1_train, X1_test, y1_train, y1_test = train_test_split(X1, y1, test_size=0.25, random_state=0)\n"
   ]
  },
  {
   "cell_type": "code",
   "execution_count": 7,
   "id": "bf889428",
   "metadata": {},
   "outputs": [],
   "source": [
    "sc = StandardScaler()\n",
    "X1_train = sc.fit_transform(X1_train)\n",
    "X1_test = sc.transform(X1_test)"
   ]
  },
  {
   "cell_type": "code",
   "execution_count": 8,
   "id": "bbdaf58a",
   "metadata": {},
   "outputs": [],
   "source": [
    "final_layer = StackingClassifier(\n",
    "    estimators=[\n",
    "        ('xgb', XGBClassifier(n_estimators=100, learning_rate=0.05, max_depth=4, reg_lambda=2, reg_alpha=2)),\n",
    "        ('rf', RandomForestClassifier(n_estimators=100, max_depth=8, random_state=42)),\n",
    "        ('svc', SVC(C=0.5, kernel='rbf', gamma=1e-3, probability=True))\n",
    "    ],\n",
    "    final_estimator=LogisticRegression(max_iter=500),\n",
    "    passthrough=True,\n",
    "    n_jobs=-1\n",
    ")\n",
    "\n",
    "# Define multi-layer stack\n",
    "multi_layer_classifier = StackingClassifier(\n",
    "    estimators=[\n",
    "        ('ridge', RidgeClassifierCV()),\n",
    "        ('logreg', LogisticRegression(max_iter=1000)),\n",
    "        ('mlp', MLPClassifier(hidden_layer_sizes=(128, 64), max_iter=1000,\n",
    "                              activation='relu', solver='adam',\n",
    "                              alpha=0.1, early_stopping=True, random_state=42)),\n",
    "        ('svc', SVC(C=1, gamma=1e-6, kernel='rbf', probability=True))\n",
    "    ],\n",
    "    final_estimator=final_layer,\n",
    "    passthrough=False,\n",
    "    n_jobs=-1\n",
    ")"
   ]
  },
  {
   "cell_type": "code",
   "execution_count": 9,
   "id": "64472ad7",
   "metadata": {},
   "outputs": [],
   "source": [
    "y1_pred = cross_val_predict(multi_layer_classifier, X1_train, y1_train, cv=5, n_jobs=-1)\n",
    "\n"
   ]
  },
  {
   "cell_type": "code",
   "execution_count": 10,
   "id": "5d372e51",
   "metadata": {},
   "outputs": [],
   "source": [
    "multi_layer_classifier.fit(X1_train, y1_train)\n",
    "y1_test_pred = multi_layer_classifier.predict(X1_test)"
   ]
  },
  {
   "cell_type": "code",
   "execution_count": 11,
   "id": "f161f1ec",
   "metadata": {},
   "outputs": [
    {
     "name": "stdout",
     "output_type": "stream",
     "text": [
      "Classification Report on Test Set:\n",
      "               precision    recall  f1-score   support\n",
      "\n",
      "           0       1.00      1.00      1.00       314\n",
      "           1       0.86      0.88      0.87       306\n",
      "           2       1.00      1.00      1.00       312\n",
      "           3       0.88      0.87      0.87       318\n",
      "\n",
      "    accuracy                           0.94      1250\n",
      "   macro avg       0.94      0.94      0.94      1250\n",
      "weighted avg       0.94      0.94      0.94      1250\n",
      "\n",
      "Confusion Matrix:\n",
      " [[314   0   0   0]\n",
      " [  0 269   0  37]\n",
      " [  0   0 312   0]\n",
      " [  0  42   0 276]]\n",
      "Accuracy: 0.9368\n",
      "Precision: 0.9368673494755658\n",
      "Recall: 0.9368\n",
      "F1 Score: 0.9368056815992726\n"
     ]
    }
   ],
   "source": [
    "print(\"Classification Report on Test Set:\\n\", classification_report(y1_test, y1_test_pred))\n",
    "print(\"Confusion Matrix:\\n\", confusion_matrix(y1_test, y1_test_pred))\n",
    "print(\"Accuracy:\", accuracy_score(y1_test, y1_test_pred))\n",
    "print(\"Precision:\", precision_score(y1_test, y1_test_pred, average='weighted', zero_division=0))\n",
    "print(\"Recall:\", recall_score(y1_test, y1_test_pred, average='weighted'))\n",
    "print(\"F1 Score:\", f1_score(y1_test, y1_test_pred, average='weighted'))"
   ]
  },
  {
   "cell_type": "code",
   "execution_count": 12,
   "id": "f33b761d",
   "metadata": {},
   "outputs": [],
   "source": [
    "import pickle\n",
    "# Specify the file path where you want to save the pickle file\n",
    "pickle_file_path = 'C:/Users/kashishpreet kaur/OneDrive/Desktop/Documents/DMA LAB/flask/mlclassfier1.pkl'\n",
    "\n",
    "# Open the file in binary write mode and save the data\n",
    "with open(pickle_file_path, 'wb') as file:\n",
    "    pickle.dump(multi_layer_classifier, file)"
   ]
  },
  {
   "cell_type": "code",
   "execution_count": 13,
   "id": "ee0d2c52",
   "metadata": {},
   "outputs": [
    {
     "name": "stderr",
     "output_type": "stream",
     "text": [
      "C:\\Users\\kashishpreet kaur\\AppData\\Roaming\\Python\\Python312\\site-packages\\sklearn\\base.py:486: UserWarning: X has feature names, but RidgeClassifierCV was fitted without feature names\n",
      "  warnings.warn(\n",
      "C:\\Users\\kashishpreet kaur\\AppData\\Roaming\\Python\\Python312\\site-packages\\sklearn\\base.py:486: UserWarning: X has feature names, but LogisticRegression was fitted without feature names\n",
      "  warnings.warn(\n",
      "C:\\Users\\kashishpreet kaur\\AppData\\Roaming\\Python\\Python312\\site-packages\\sklearn\\base.py:486: UserWarning: X has feature names, but MLPClassifier was fitted without feature names\n",
      "  warnings.warn(\n",
      "C:\\Users\\kashishpreet kaur\\AppData\\Roaming\\Python\\Python312\\site-packages\\sklearn\\base.py:486: UserWarning: X has feature names, but SVC was fitted without feature names\n",
      "  warnings.warn(\n"
     ]
    },
    {
     "data": {
      "text/plain": [
       "array([3])"
      ]
     },
     "execution_count": 13,
     "metadata": {},
     "output_type": "execute_result"
    }
   ],
   "source": [
    "multi_layer_classifier\n",
    "\n",
    "vals = [\n",
    "    168.8,\n",
    "    64.1,\n",
    "    2548,\n",
    "    130\n",
    "]\n",
    "\n",
    "input_data = pd.DataFrame([vals], columns=['N', 'P', 'K', 'pH'])\n",
    "\n",
    "input_data\n",
    "\n",
    "predicted_value = multi_layer_classifier.predict(\n",
    "    input_data\n",
    ")\n",
    "# predicted_value = sc.inverse_transform(predicted_value.reshape(-1, 1))\n",
    "predicted_value"
   ]
  }
 ],
 "metadata": {
  "kernelspec": {
   "display_name": "Python 3",
   "language": "python",
   "name": "python3"
  },
  "language_info": {
   "codemirror_mode": {
    "name": "ipython",
    "version": 3
   },
   "file_extension": ".py",
   "mimetype": "text/x-python",
   "name": "python",
   "nbconvert_exporter": "python",
   "pygments_lexer": "ipython3",
   "version": "3.12.2"
  }
 },
 "nbformat": 4,
 "nbformat_minor": 5
}
